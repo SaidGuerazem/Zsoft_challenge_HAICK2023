{
  "nbformat": 4,
  "nbformat_minor": 0,
  "metadata": {
    "colab": {
      "provenance": []
    },
    "kernelspec": {
      "name": "python3",
      "display_name": "Python 3"
    },
    "language_info": {
      "name": "python"
    }
  },
  "cells": [
    {
      "cell_type": "markdown",
      "source": [
        "Importing the libraries"
      ],
      "metadata": {
        "id": "Cz0iJCf_oidM"
      }
    },
    {
      "cell_type": "code",
      "execution_count": null,
      "metadata": {
        "colab": {
          "base_uri": "https://localhost:8080/"
        },
        "id": "RbAk5Yp4oN_b",
        "outputId": "f224989d-6c98-4be1-c3e5-e43a610c440a"
      },
      "outputs": [
        {
          "output_type": "stream",
          "name": "stdout",
          "text": [
            "Drive already mounted at /content/gdrive; to attempt to forcibly remount, call drive.mount(\"/content/gdrive\", force_remount=True).\n"
          ]
        }
      ],
      "source": [
        "import pandas as pd\n",
        "import numpy as np\n",
        "import matplotlib.pyplot as plt\n",
        "import seaborn as sns\n",
        "from google.colab import drive\n",
        "drive.mount('/content/gdrive')\n",
        "import matplotlib as mpl\n",
        "import matplotlib.cm as cm\n",
        "import plotly.graph_objects as go\n",
        "\n",
        "from sklearn.feature_extraction.text import CountVectorizer\n",
        "#from sklearn.feature_extraction import stop_words\n",
        "from nltk.stem import WordNetLemmatizer\n",
        "from sklearn.feature_extraction.text import TfidfVectorizer\n",
        "\n",
        "import string\n",
        "import re\n",
        "\n",
        "from sklearn.naive_bayes import MultinomialNB\n",
        "from sklearn.naive_bayes import GaussianNB\n",
        "from sklearn.linear_model import LogisticRegression\n",
        "from sklearn.svm import LinearSVC\n",
        "\n",
        "from sklearn.metrics import accuracy_score\n",
        "import sklearn.metrics as metrics\n",
        "from sklearn.model_selection import train_test_split\n",
        "from sklearn.metrics import confusion_matrix\n",
        "from sklearn.metrics import classification_report\n",
        "from sklearn import metrics\n",
        "\n",
        "from time import time\n",
        "from collections import Counter\n",
        "from sklearn import model_selection, svm\n",
        "from sklearn.model_selection import train_test_split\n",
        "import re\n",
        "import string\n",
        "import nltk\n",
        "from nltk.stem import PorterStemmer\n",
        "from nltk.stem.wordnet import WordNetLemmatizer\n",
        "import spacy\n",
        "\n",
        "import warnings\n",
        "warnings.filterwarnings(\"ignore\")\n"
      ]
    },
    {
      "cell_type": "code",
      "source": [
        "df = pd.read_csv(r'/content/gdrive/MyDrive/Colab Notebooks/Train_zsoft.csv')\n",
        "df"
      ],
      "metadata": {
        "colab": {
          "base_uri": "https://localhost:8080/",
          "height": 424
        },
        "id": "HLgB9yyopGxL",
        "outputId": "a54e0922-26e4-4103-f5cc-2cc2deade0f4"
      },
      "execution_count": null,
      "outputs": [
        {
          "output_type": "execute_result",
          "data": {
            "text/plain": [
              "          ID                                               text       label\n",
              "0      17428                             TRANSPORT SYTEX / OEDA  Experience\n",
              "1      15362                         Appliquer la résine Avancé      Skills\n",
              "2      37153            2020 - 2021 ¢ Formation en ligne sur le   Education\n",
              "3      10240                                    Score: 820 (B2)      Skills\n",
              "4      29713               - Anglais :courant - Créole :courant      Skills\n",
              "...      ...                                                ...         ...\n",
              "30124  16850                                          du Groupe  Experience\n",
              "30125   6265  @ Mise en place du marché et démarchage d'arti...  Experience\n",
              "30126  11284                 Baccalauréat général série ES 2019   Education\n",
              "30127    860                             Communication en ligne  Experience\n",
              "30128  15795                     2004 agent qualifié de service  Experience\n",
              "\n",
              "[30129 rows x 3 columns]"
            ],
            "text/html": [
              "\n",
              "  <div id=\"df-639de408-39dd-45dd-8852-0b0d3beabc0c\">\n",
              "    <div class=\"colab-df-container\">\n",
              "      <div>\n",
              "<style scoped>\n",
              "    .dataframe tbody tr th:only-of-type {\n",
              "        vertical-align: middle;\n",
              "    }\n",
              "\n",
              "    .dataframe tbody tr th {\n",
              "        vertical-align: top;\n",
              "    }\n",
              "\n",
              "    .dataframe thead th {\n",
              "        text-align: right;\n",
              "    }\n",
              "</style>\n",
              "<table border=\"1\" class=\"dataframe\">\n",
              "  <thead>\n",
              "    <tr style=\"text-align: right;\">\n",
              "      <th></th>\n",
              "      <th>ID</th>\n",
              "      <th>text</th>\n",
              "      <th>label</th>\n",
              "    </tr>\n",
              "  </thead>\n",
              "  <tbody>\n",
              "    <tr>\n",
              "      <th>0</th>\n",
              "      <td>17428</td>\n",
              "      <td>TRANSPORT SYTEX / OEDA</td>\n",
              "      <td>Experience</td>\n",
              "    </tr>\n",
              "    <tr>\n",
              "      <th>1</th>\n",
              "      <td>15362</td>\n",
              "      <td>Appliquer la résine Avancé</td>\n",
              "      <td>Skills</td>\n",
              "    </tr>\n",
              "    <tr>\n",
              "      <th>2</th>\n",
              "      <td>37153</td>\n",
              "      <td>2020 - 2021 ¢ Formation en ligne sur le</td>\n",
              "      <td>Education</td>\n",
              "    </tr>\n",
              "    <tr>\n",
              "      <th>3</th>\n",
              "      <td>10240</td>\n",
              "      <td>Score: 820 (B2)</td>\n",
              "      <td>Skills</td>\n",
              "    </tr>\n",
              "    <tr>\n",
              "      <th>4</th>\n",
              "      <td>29713</td>\n",
              "      <td>- Anglais :courant - Créole :courant</td>\n",
              "      <td>Skills</td>\n",
              "    </tr>\n",
              "    <tr>\n",
              "      <th>...</th>\n",
              "      <td>...</td>\n",
              "      <td>...</td>\n",
              "      <td>...</td>\n",
              "    </tr>\n",
              "    <tr>\n",
              "      <th>30124</th>\n",
              "      <td>16850</td>\n",
              "      <td>du Groupe</td>\n",
              "      <td>Experience</td>\n",
              "    </tr>\n",
              "    <tr>\n",
              "      <th>30125</th>\n",
              "      <td>6265</td>\n",
              "      <td>@ Mise en place du marché et démarchage d'arti...</td>\n",
              "      <td>Experience</td>\n",
              "    </tr>\n",
              "    <tr>\n",
              "      <th>30126</th>\n",
              "      <td>11284</td>\n",
              "      <td>Baccalauréat général série ES 2019</td>\n",
              "      <td>Education</td>\n",
              "    </tr>\n",
              "    <tr>\n",
              "      <th>30127</th>\n",
              "      <td>860</td>\n",
              "      <td>Communication en ligne</td>\n",
              "      <td>Experience</td>\n",
              "    </tr>\n",
              "    <tr>\n",
              "      <th>30128</th>\n",
              "      <td>15795</td>\n",
              "      <td>2004 agent qualifié de service</td>\n",
              "      <td>Experience</td>\n",
              "    </tr>\n",
              "  </tbody>\n",
              "</table>\n",
              "<p>30129 rows × 3 columns</p>\n",
              "</div>\n",
              "      <button class=\"colab-df-convert\" onclick=\"convertToInteractive('df-639de408-39dd-45dd-8852-0b0d3beabc0c')\"\n",
              "              title=\"Convert this dataframe to an interactive table.\"\n",
              "              style=\"display:none;\">\n",
              "        \n",
              "  <svg xmlns=\"http://www.w3.org/2000/svg\" height=\"24px\"viewBox=\"0 0 24 24\"\n",
              "       width=\"24px\">\n",
              "    <path d=\"M0 0h24v24H0V0z\" fill=\"none\"/>\n",
              "    <path d=\"M18.56 5.44l.94 2.06.94-2.06 2.06-.94-2.06-.94-.94-2.06-.94 2.06-2.06.94zm-11 1L8.5 8.5l.94-2.06 2.06-.94-2.06-.94L8.5 2.5l-.94 2.06-2.06.94zm10 10l.94 2.06.94-2.06 2.06-.94-2.06-.94-.94-2.06-.94 2.06-2.06.94z\"/><path d=\"M17.41 7.96l-1.37-1.37c-.4-.4-.92-.59-1.43-.59-.52 0-1.04.2-1.43.59L10.3 9.45l-7.72 7.72c-.78.78-.78 2.05 0 2.83L4 21.41c.39.39.9.59 1.41.59.51 0 1.02-.2 1.41-.59l7.78-7.78 2.81-2.81c.8-.78.8-2.07 0-2.86zM5.41 20L4 18.59l7.72-7.72 1.47 1.35L5.41 20z\"/>\n",
              "  </svg>\n",
              "      </button>\n",
              "      \n",
              "  <style>\n",
              "    .colab-df-container {\n",
              "      display:flex;\n",
              "      flex-wrap:wrap;\n",
              "      gap: 12px;\n",
              "    }\n",
              "\n",
              "    .colab-df-convert {\n",
              "      background-color: #E8F0FE;\n",
              "      border: none;\n",
              "      border-radius: 50%;\n",
              "      cursor: pointer;\n",
              "      display: none;\n",
              "      fill: #1967D2;\n",
              "      height: 32px;\n",
              "      padding: 0 0 0 0;\n",
              "      width: 32px;\n",
              "    }\n",
              "\n",
              "    .colab-df-convert:hover {\n",
              "      background-color: #E2EBFA;\n",
              "      box-shadow: 0px 1px 2px rgba(60, 64, 67, 0.3), 0px 1px 3px 1px rgba(60, 64, 67, 0.15);\n",
              "      fill: #174EA6;\n",
              "    }\n",
              "\n",
              "    [theme=dark] .colab-df-convert {\n",
              "      background-color: #3B4455;\n",
              "      fill: #D2E3FC;\n",
              "    }\n",
              "\n",
              "    [theme=dark] .colab-df-convert:hover {\n",
              "      background-color: #434B5C;\n",
              "      box-shadow: 0px 1px 3px 1px rgba(0, 0, 0, 0.15);\n",
              "      filter: drop-shadow(0px 1px 2px rgba(0, 0, 0, 0.3));\n",
              "      fill: #FFFFFF;\n",
              "    }\n",
              "  </style>\n",
              "\n",
              "      <script>\n",
              "        const buttonEl =\n",
              "          document.querySelector('#df-639de408-39dd-45dd-8852-0b0d3beabc0c button.colab-df-convert');\n",
              "        buttonEl.style.display =\n",
              "          google.colab.kernel.accessAllowed ? 'block' : 'none';\n",
              "\n",
              "        async function convertToInteractive(key) {\n",
              "          const element = document.querySelector('#df-639de408-39dd-45dd-8852-0b0d3beabc0c');\n",
              "          const dataTable =\n",
              "            await google.colab.kernel.invokeFunction('convertToInteractive',\n",
              "                                                     [key], {});\n",
              "          if (!dataTable) return;\n",
              "\n",
              "          const docLinkHtml = 'Like what you see? Visit the ' +\n",
              "            '<a target=\"_blank\" href=https://colab.research.google.com/notebooks/data_table.ipynb>data table notebook</a>'\n",
              "            + ' to learn more about interactive tables.';\n",
              "          element.innerHTML = '';\n",
              "          dataTable['output_type'] = 'display_data';\n",
              "          await google.colab.output.renderOutput(dataTable, element);\n",
              "          const docLink = document.createElement('div');\n",
              "          docLink.innerHTML = docLinkHtml;\n",
              "          element.appendChild(docLink);\n",
              "        }\n",
              "      </script>\n",
              "    </div>\n",
              "  </div>\n",
              "  "
            ]
          },
          "metadata": {},
          "execution_count": 6
        }
      ]
    },
    {
      "cell_type": "markdown",
      "source": [
        "**Text preprocessing**"
      ],
      "metadata": {
        "id": "fs_mbKlbo-b3"
      }
    },
    {
      "cell_type": "code",
      "source": [
        "data=df.copy()\n",
        "data.head()"
      ],
      "metadata": {
        "colab": {
          "base_uri": "https://localhost:8080/",
          "height": 206
        },
        "id": "tWUOO9sioxlx",
        "outputId": "f3be43de-7672-4931-95b7-b35b4fecfd34"
      },
      "execution_count": null,
      "outputs": [
        {
          "output_type": "execute_result",
          "data": {
            "text/plain": [
              "      ID                                     text       label\n",
              "0  17428                   TRANSPORT SYTEX / OEDA  Experience\n",
              "1  15362               Appliquer la résine Avancé      Skills\n",
              "2  37153  2020 - 2021 ¢ Formation en ligne sur le   Education\n",
              "3  10240                          Score: 820 (B2)      Skills\n",
              "4  29713     - Anglais :courant - Créole :courant      Skills"
            ],
            "text/html": [
              "\n",
              "  <div id=\"df-9fe7b030-7b30-4169-8987-796a8d22bc7f\">\n",
              "    <div class=\"colab-df-container\">\n",
              "      <div>\n",
              "<style scoped>\n",
              "    .dataframe tbody tr th:only-of-type {\n",
              "        vertical-align: middle;\n",
              "    }\n",
              "\n",
              "    .dataframe tbody tr th {\n",
              "        vertical-align: top;\n",
              "    }\n",
              "\n",
              "    .dataframe thead th {\n",
              "        text-align: right;\n",
              "    }\n",
              "</style>\n",
              "<table border=\"1\" class=\"dataframe\">\n",
              "  <thead>\n",
              "    <tr style=\"text-align: right;\">\n",
              "      <th></th>\n",
              "      <th>ID</th>\n",
              "      <th>text</th>\n",
              "      <th>label</th>\n",
              "    </tr>\n",
              "  </thead>\n",
              "  <tbody>\n",
              "    <tr>\n",
              "      <th>0</th>\n",
              "      <td>17428</td>\n",
              "      <td>TRANSPORT SYTEX / OEDA</td>\n",
              "      <td>Experience</td>\n",
              "    </tr>\n",
              "    <tr>\n",
              "      <th>1</th>\n",
              "      <td>15362</td>\n",
              "      <td>Appliquer la résine Avancé</td>\n",
              "      <td>Skills</td>\n",
              "    </tr>\n",
              "    <tr>\n",
              "      <th>2</th>\n",
              "      <td>37153</td>\n",
              "      <td>2020 - 2021 ¢ Formation en ligne sur le</td>\n",
              "      <td>Education</td>\n",
              "    </tr>\n",
              "    <tr>\n",
              "      <th>3</th>\n",
              "      <td>10240</td>\n",
              "      <td>Score: 820 (B2)</td>\n",
              "      <td>Skills</td>\n",
              "    </tr>\n",
              "    <tr>\n",
              "      <th>4</th>\n",
              "      <td>29713</td>\n",
              "      <td>- Anglais :courant - Créole :courant</td>\n",
              "      <td>Skills</td>\n",
              "    </tr>\n",
              "  </tbody>\n",
              "</table>\n",
              "</div>\n",
              "      <button class=\"colab-df-convert\" onclick=\"convertToInteractive('df-9fe7b030-7b30-4169-8987-796a8d22bc7f')\"\n",
              "              title=\"Convert this dataframe to an interactive table.\"\n",
              "              style=\"display:none;\">\n",
              "        \n",
              "  <svg xmlns=\"http://www.w3.org/2000/svg\" height=\"24px\"viewBox=\"0 0 24 24\"\n",
              "       width=\"24px\">\n",
              "    <path d=\"M0 0h24v24H0V0z\" fill=\"none\"/>\n",
              "    <path d=\"M18.56 5.44l.94 2.06.94-2.06 2.06-.94-2.06-.94-.94-2.06-.94 2.06-2.06.94zm-11 1L8.5 8.5l.94-2.06 2.06-.94-2.06-.94L8.5 2.5l-.94 2.06-2.06.94zm10 10l.94 2.06.94-2.06 2.06-.94-2.06-.94-.94-2.06-.94 2.06-2.06.94z\"/><path d=\"M17.41 7.96l-1.37-1.37c-.4-.4-.92-.59-1.43-.59-.52 0-1.04.2-1.43.59L10.3 9.45l-7.72 7.72c-.78.78-.78 2.05 0 2.83L4 21.41c.39.39.9.59 1.41.59.51 0 1.02-.2 1.41-.59l7.78-7.78 2.81-2.81c.8-.78.8-2.07 0-2.86zM5.41 20L4 18.59l7.72-7.72 1.47 1.35L5.41 20z\"/>\n",
              "  </svg>\n",
              "      </button>\n",
              "      \n",
              "  <style>\n",
              "    .colab-df-container {\n",
              "      display:flex;\n",
              "      flex-wrap:wrap;\n",
              "      gap: 12px;\n",
              "    }\n",
              "\n",
              "    .colab-df-convert {\n",
              "      background-color: #E8F0FE;\n",
              "      border: none;\n",
              "      border-radius: 50%;\n",
              "      cursor: pointer;\n",
              "      display: none;\n",
              "      fill: #1967D2;\n",
              "      height: 32px;\n",
              "      padding: 0 0 0 0;\n",
              "      width: 32px;\n",
              "    }\n",
              "\n",
              "    .colab-df-convert:hover {\n",
              "      background-color: #E2EBFA;\n",
              "      box-shadow: 0px 1px 2px rgba(60, 64, 67, 0.3), 0px 1px 3px 1px rgba(60, 64, 67, 0.15);\n",
              "      fill: #174EA6;\n",
              "    }\n",
              "\n",
              "    [theme=dark] .colab-df-convert {\n",
              "      background-color: #3B4455;\n",
              "      fill: #D2E3FC;\n",
              "    }\n",
              "\n",
              "    [theme=dark] .colab-df-convert:hover {\n",
              "      background-color: #434B5C;\n",
              "      box-shadow: 0px 1px 3px 1px rgba(0, 0, 0, 0.15);\n",
              "      filter: drop-shadow(0px 1px 2px rgba(0, 0, 0, 0.3));\n",
              "      fill: #FFFFFF;\n",
              "    }\n",
              "  </style>\n",
              "\n",
              "      <script>\n",
              "        const buttonEl =\n",
              "          document.querySelector('#df-9fe7b030-7b30-4169-8987-796a8d22bc7f button.colab-df-convert');\n",
              "        buttonEl.style.display =\n",
              "          google.colab.kernel.accessAllowed ? 'block' : 'none';\n",
              "\n",
              "        async function convertToInteractive(key) {\n",
              "          const element = document.querySelector('#df-9fe7b030-7b30-4169-8987-796a8d22bc7f');\n",
              "          const dataTable =\n",
              "            await google.colab.kernel.invokeFunction('convertToInteractive',\n",
              "                                                     [key], {});\n",
              "          if (!dataTable) return;\n",
              "\n",
              "          const docLinkHtml = 'Like what you see? Visit the ' +\n",
              "            '<a target=\"_blank\" href=https://colab.research.google.com/notebooks/data_table.ipynb>data table notebook</a>'\n",
              "            + ' to learn more about interactive tables.';\n",
              "          element.innerHTML = '';\n",
              "          dataTable['output_type'] = 'display_data';\n",
              "          await google.colab.output.renderOutput(dataTable, element);\n",
              "          const docLink = document.createElement('div');\n",
              "          docLink.innerHTML = docLinkHtml;\n",
              "          element.appendChild(docLink);\n",
              "        }\n",
              "      </script>\n",
              "    </div>\n",
              "  </div>\n",
              "  "
            ]
          },
          "metadata": {},
          "execution_count": 7
        }
      ]
    },
    {
      "cell_type": "code",
      "source": [
        "data['text'] = data['text'].apply(lambda x : x.lower())\n",
        "!pip install contractions\n",
        "\n",
        "import re\n",
        "data['text']=data['text'].apply(lambda x: re.sub('\\w*\\d\\w*','', x))\n",
        "\n",
        "import contractions\n",
        "data['text'] = data[\"text\"].apply(lambda x : contractions.fix(x))\n",
        "data['text'] = [re.sub('\\n', '', x) for x in data['text']]\n",
        "\n",
        "import string\n",
        "data['text'] = data[\"text\"].apply(lambda x: re.sub('[%s]' % re.escape(string.punctuation), '', x))\n",
        "data['text'] = data[\"text\"].apply(lambda x: re.sub(' +',' ',x))\n",
        "\n",
        "import spacy\n",
        "\n",
        "# Loading model\n",
        "nlp = spacy.load('en_core_web_sm',disable=['parser', 'ner'])\n",
        "\n",
        "# Lemmatization with stopwords removal\n",
        "data['text']=data['text'].apply(lambda x: ' '.join([token.lemma_ for token in list(nlp(x)) if (token.is_stop==False)]))\n",
        "data['text'] = [re.sub('httpstco', '', x) for x in data['text']]\n",
        "\n",
        "text_final = data['text']\n"
      ],
      "metadata": {
        "colab": {
          "base_uri": "https://localhost:8080/"
        },
        "id": "YFjZl7ouprH-",
        "outputId": "6fd71247-e907-4dfa-c2cb-4c6653d83826"
      },
      "execution_count": null,
      "outputs": [
        {
          "output_type": "stream",
          "name": "stdout",
          "text": [
            "Looking in indexes: https://pypi.org/simple, https://us-python.pkg.dev/colab-wheels/public/simple/\n",
            "Collecting contractions\n",
            "  Downloading contractions-0.1.73-py2.py3-none-any.whl (8.7 kB)\n",
            "Collecting textsearch>=0.0.21\n",
            "  Downloading textsearch-0.0.24-py2.py3-none-any.whl (7.6 kB)\n",
            "Collecting anyascii\n",
            "  Downloading anyascii-0.3.1-py3-none-any.whl (287 kB)\n",
            "\u001b[2K     \u001b[90m━━━━━━━━━━━━━━━━━━━━━━━━━━━━━━━━━━━━━━━\u001b[0m \u001b[32m287.5/287.5 KB\u001b[0m \u001b[31m9.7 MB/s\u001b[0m eta \u001b[36m0:00:00\u001b[0m\n",
            "\u001b[?25hCollecting pyahocorasick\n",
            "  Downloading pyahocorasick-2.0.0-cp38-cp38-manylinux_2_5_x86_64.manylinux1_x86_64.whl (104 kB)\n",
            "\u001b[2K     \u001b[90m━━━━━━━━━━━━━━━━━━━━━━━━━━━━━━━━━━━━━━\u001b[0m \u001b[32m104.5/104.5 KB\u001b[0m \u001b[31m13.3 MB/s\u001b[0m eta \u001b[36m0:00:00\u001b[0m\n",
            "\u001b[?25hInstalling collected packages: pyahocorasick, anyascii, textsearch, contractions\n",
            "Successfully installed anyascii-0.3.1 contractions-0.1.73 pyahocorasick-2.0.0 textsearch-0.0.24\n"
          ]
        }
      ]
    },
    {
      "cell_type": "markdown",
      "source": [
        "***Labelazing the data***"
      ],
      "metadata": {
        "id": "PVdsPC5rqUTV"
      }
    },
    {
      "cell_type": "code",
      "source": [
        "data['label'] = data['label'].replace(['Experience', 'Skills', 'Education'], [0, 1, 2])\n",
        "labels = {0 : 'Experience', 1 : 'Skills', 2 : 'Education'}"
      ],
      "metadata": {
        "id": "95I0jCXjqTzb"
      },
      "execution_count": null,
      "outputs": []
    },
    {
      "cell_type": "markdown",
      "source": [
        "**Train and Test data**"
      ],
      "metadata": {
        "id": "vICBp4Zcqdp4"
      }
    },
    {
      "cell_type": "code",
      "source": [
        "x_train,x_test, y_train, y_test = train_test_split(data['text'], data['label'], test_size = 0.30, shuffle = True, random_state = 1)"
      ],
      "metadata": {
        "id": "6Fk-HPVbqcr_"
      },
      "execution_count": null,
      "outputs": []
    },
    {
      "cell_type": "markdown",
      "source": [
        "**Tokenisation**"
      ],
      "metadata": {
        "id": "t_gQSwgmqsRF"
      }
    },
    {
      "cell_type": "code",
      "source": [
        "from sklearn.feature_extraction.text import CountVectorizer\n",
        "cv = CountVectorizer()\n",
        "features = cv.fit_transform(x_train)"
      ],
      "metadata": {
        "id": "hiU3NpF1qnIS"
      },
      "execution_count": null,
      "outputs": []
    },
    {
      "cell_type": "markdown",
      "source": [
        "**Building our models**"
      ],
      "metadata": {
        "id": "oFZGUg1Jq3SN"
      }
    },
    {
      "cell_type": "markdown",
      "source": [
        "*Linear SVC*"
      ],
      "metadata": {
        "id": "iHmV8jGlrB31"
      }
    },
    {
      "cell_type": "code",
      "source": [
        "svc =  LinearSVC(loss='hinge',class_weight='balanced',multi_class='ovr',penalty='l2')\n",
        "%time svc.fit(features, y_train)"
      ],
      "metadata": {
        "colab": {
          "base_uri": "https://localhost:8080/"
        },
        "id": "PYZQfkS4rIvT",
        "outputId": "57fff59d-1ea1-41cf-a469-e98e6801b4b6"
      },
      "execution_count": null,
      "outputs": [
        {
          "output_type": "stream",
          "name": "stdout",
          "text": [
            "CPU times: user 1.68 s, sys: 7.79 ms, total: 1.69 s\n",
            "Wall time: 1.7 s\n"
          ]
        },
        {
          "output_type": "execute_result",
          "data": {
            "text/plain": [
              "LinearSVC(class_weight='balanced', loss='hinge')"
            ]
          },
          "metadata": {},
          "execution_count": 13
        }
      ]
    },
    {
      "cell_type": "code",
      "source": [
        "y_pred_train = svc.predict(features)\n",
        "y_pred_test = svc.predict(cv.transform(x_test))\n",
        "print(\"\\nTraining Accuracy score:\",accuracy_score(y_train, y_pred_train))\n",
        "print(\"Testing Accuracy score:\",accuracy_score(y_test, y_pred_test))\n",
        "print(classification_report(y_test, y_pred_test, target_names=[labels[0], labels[1], labels[2]]))"
      ],
      "metadata": {
        "colab": {
          "base_uri": "https://localhost:8080/"
        },
        "id": "sX2Kog9UrLaW",
        "outputId": "b6893771-e7a9-4f7b-9fe7-88c04c919ec2"
      },
      "execution_count": null,
      "outputs": [
        {
          "output_type": "stream",
          "name": "stdout",
          "text": [
            "\n",
            "Training Accuracy score: 0.9013750592697961\n",
            "Testing Accuracy score: 0.7479809713463879\n",
            "              precision    recall  f1-score   support\n",
            "\n",
            "  Experience       0.82      0.79      0.80      4893\n",
            "      Skills       0.62      0.71      0.66      2300\n",
            "   Education       0.75      0.69      0.72      1846\n",
            "\n",
            "    accuracy                           0.75      9039\n",
            "   macro avg       0.73      0.73      0.73      9039\n",
            "weighted avg       0.75      0.75      0.75      9039\n",
            "\n"
          ]
        }
      ]
    },
    {
      "cell_type": "markdown",
      "source": [
        "*Bagging with SVC*"
      ],
      "metadata": {
        "id": "v0LZLPwMrSCB"
      }
    },
    {
      "cell_type": "code",
      "source": [
        "from sklearn.ensemble import BaggingClassifier\n",
        "\n",
        "model = BaggingClassifier(base_estimator= svc, n_estimators=200)\n",
        "model.fit(features, y_train)"
      ],
      "metadata": {
        "colab": {
          "base_uri": "https://localhost:8080/"
        },
        "id": "AeGAu2EKri00",
        "outputId": "d557909f-c9c4-494b-b10c-fe45ca277c53"
      },
      "execution_count": null,
      "outputs": [
        {
          "output_type": "execute_result",
          "data": {
            "text/plain": [
              "BaggingClassifier(base_estimator=LinearSVC(class_weight='balanced',\n",
              "                                           loss='hinge'),\n",
              "                  n_estimators=200)"
            ]
          },
          "metadata": {},
          "execution_count": 15
        }
      ]
    },
    {
      "cell_type": "code",
      "source": [
        "y_pred_train = model.predict(features)\n",
        "y_pred_test = model.predict(cv.transform(x_test))\n",
        "print(\"\\nTraining Accuracy score:\",accuracy_score(y_train, y_pred_train))\n",
        "print(\"Testing Accuracy score:\",accuracy_score(y_test, y_pred_test))"
      ],
      "metadata": {
        "colab": {
          "base_uri": "https://localhost:8080/"
        },
        "id": "oXNn516psCaR",
        "outputId": "3f22aa63-125f-44c6-dacc-50f9f2badb2f"
      },
      "execution_count": null,
      "outputs": [
        {
          "output_type": "stream",
          "name": "stdout",
          "text": [
            "\n",
            "Training Accuracy score: 0.9064959696538644\n",
            "Testing Accuracy score: 0.7495298152450492\n"
          ]
        }
      ]
    },
    {
      "cell_type": "markdown",
      "source": [
        "*SGD Classifier*\n",
        "\n",
        "After doing a gridsearchcv in another device"
      ],
      "metadata": {
        "id": "qEIl3V18suMl"
      }
    },
    {
      "cell_type": "code",
      "source": [
        "from sklearn.linear_model import SGDClassifier\n",
        "sgd = SGDClassifier(loss='hinge', penalty='l2', alpha=0.0001)\n",
        "sgd.fit(features, y_train)"
      ],
      "metadata": {
        "colab": {
          "base_uri": "https://localhost:8080/"
        },
        "id": "dI22yjJ6sH2V",
        "outputId": "c8a32d20-67a5-4d96-a201-802bd884e283"
      },
      "execution_count": null,
      "outputs": [
        {
          "output_type": "execute_result",
          "data": {
            "text/plain": [
              "SGDClassifier()"
            ]
          },
          "metadata": {},
          "execution_count": 18
        }
      ]
    },
    {
      "cell_type": "code",
      "source": [
        "y_pred_train = sgd.predict(features)\n",
        "y_pred_test = sgd.predict(cv.transform(x_test))\n",
        "print(\"\\nTraining Accuracy score:\",accuracy_score(y_train, y_pred_train))\n",
        "print(\"Testing Accuracy score:\",accuracy_score(y_test, y_pred_test))"
      ],
      "metadata": {
        "colab": {
          "base_uri": "https://localhost:8080/"
        },
        "id": "TS0IfACHs85J",
        "outputId": "861a6933-b5b0-4846-b7ad-b63c38e61d2f"
      },
      "execution_count": null,
      "outputs": [
        {
          "output_type": "stream",
          "name": "stdout",
          "text": [
            "\n",
            "Training Accuracy score: 0.8764817449027975\n",
            "Testing Accuracy score: 0.762805620090718\n"
          ]
        }
      ]
    },
    {
      "cell_type": "markdown",
      "source": [
        "*Combining Elements*"
      ],
      "metadata": {
        "id": "cOATP8ZHtHDq"
      }
    },
    {
      "cell_type": "code",
      "source": [
        "from sklearn.ensemble import VotingClassifier\n",
        "\n",
        "classifiers = ([('Support Vector Machine', svc),\n",
        "                ('SGD', sgd)])\n",
        "vc = VotingClassifier(estimators=classifiers)\n",
        "vc.fit(features, y_train)"
      ],
      "metadata": {
        "colab": {
          "base_uri": "https://localhost:8080/"
        },
        "id": "geM3mKTktAc6",
        "outputId": "33e808c6-16d2-48f3-8ff7-feb746062347"
      },
      "execution_count": null,
      "outputs": [
        {
          "output_type": "execute_result",
          "data": {
            "text/plain": [
              "VotingClassifier(estimators=[('Support Vector Machine',\n",
              "                              LinearSVC(class_weight='balanced', loss='hinge')),\n",
              "                             ('SGD', SGDClassifier())])"
            ]
          },
          "metadata": {},
          "execution_count": 20
        }
      ]
    },
    {
      "cell_type": "code",
      "source": [
        "y_pred_train = vc.predict(features)\n",
        "y_pred_test = vc.predict(cv.transform(x_test))\n",
        "print(\"\\nTraining Accuracy score:\",accuracy_score(y_train, y_pred_train))\n",
        "print(\"Testing Accuracy score:\",accuracy_score(y_test, y_pred_test))"
      ],
      "metadata": {
        "colab": {
          "base_uri": "https://localhost:8080/"
        },
        "id": "tYfrhChntPLK",
        "outputId": "f9b4a2c5-fd48-4ccf-de7c-c40069e5b2fe"
      },
      "execution_count": null,
      "outputs": [
        {
          "output_type": "stream",
          "name": "stdout",
          "text": [
            "\n",
            "Training Accuracy score: 0.8817923186344239\n",
            "Testing Accuracy score: 0.7622524615554818\n"
          ]
        }
      ]
    },
    {
      "cell_type": "markdown",
      "source": [
        "*Bagging with SGD*"
      ],
      "metadata": {
        "id": "-Psl4yretgcm"
      }
    },
    {
      "cell_type": "code",
      "source": [
        "from sklearn.ensemble import BaggingClassifier\n",
        "\n",
        "model = BaggingClassifier(base_estimator= sgd, n_estimators=200)\n",
        "model.fit(features, y_train)\n",
        "y_pred_train = model.predict(features)\n",
        "y_pred_test = model.predict(cv.transform(x_test))\n",
        "print(\"\\nTraining Accuracy score:\",accuracy_score(y_train, y_pred_train))\n",
        "print(\"Testing Accuracy score:\",accuracy_score(y_test, y_pred_test))"
      ],
      "metadata": {
        "colab": {
          "base_uri": "https://localhost:8080/"
        },
        "id": "AuFgyKyTtVzz",
        "outputId": "e6bd7e54-d9a6-4c25-a4eb-36f5657d9112"
      },
      "execution_count": null,
      "outputs": [
        {
          "output_type": "stream",
          "name": "stdout",
          "text": [
            "\n",
            "Training Accuracy score: 0.880891417733523\n",
            "Testing Accuracy score: 0.7657926761809934\n"
          ]
        }
      ]
    },
    {
      "cell_type": "markdown",
      "source": [
        "*Combining Elements*"
      ],
      "metadata": {
        "id": "-oIfMeEdtvnJ"
      }
    },
    {
      "cell_type": "code",
      "source": [
        "from sklearn.ensemble import VotingClassifier\n",
        "\n",
        "classifiers = ([('Support Vector Machine', svc),\n",
        "                ('BAG', model)])\n",
        "vc = VotingClassifier(estimators=classifiers, voting=\"hard\")\n",
        "vc.fit(features, y_train)\n",
        "y_pred_train = vc.predict(features)\n",
        "y_pred_test = vc.predict(cv.transform(x_test))\n",
        "print(\"\\nTraining Accuracy score:\",accuracy_score(y_train, y_pred_train))\n",
        "print(\"Testing Accuracy score:\",accuracy_score(y_test, y_pred_test))"
      ],
      "metadata": {
        "colab": {
          "base_uri": "https://localhost:8080/"
        },
        "id": "fYmNQr4NuCcE",
        "outputId": "3f5a8afa-7f07-4149-9fca-b66b64c91d55"
      },
      "execution_count": null,
      "outputs": [
        {
          "output_type": "stream",
          "name": "stdout",
          "text": [
            "\n",
            "Training Accuracy score: 0.8834992887624467\n",
            "Testing Accuracy score: 0.7654607810598517\n"
          ]
        }
      ]
    },
    {
      "cell_type": "markdown",
      "source": [
        "*Ridge Classifier*"
      ],
      "metadata": {
        "id": "PrEx6ftTvJfF"
      }
    },
    {
      "cell_type": "code",
      "source": [
        "from sklearn.linear_model import RidgeClassifier\n",
        "\n",
        "rc = RidgeClassifier(alpha=3.91, max_iter=100000)\n",
        "rc.fit(features, y_train)\n",
        "y_pred_train = rc.predict(features)\n",
        "y_pred_test = rc.predict(cv.transform(x_test))\n",
        "print(\"\\nTraining Accuracy score:\",accuracy_score(y_train, y_pred_train))\n",
        "print(\"Testing Accuracy score:\",accuracy_score(y_test, y_pred_test))"
      ],
      "metadata": {
        "colab": {
          "base_uri": "https://localhost:8080/"
        },
        "id": "yksXEi48vMkk",
        "outputId": "12be545c-ce33-44ff-e4f2-0baa64cf2dbb"
      },
      "execution_count": null,
      "outputs": [
        {
          "output_type": "stream",
          "name": "stdout",
          "text": [
            "\n",
            "Training Accuracy score: 0.8750592697961119\n",
            "Testing Accuracy score: 0.7670096249585131\n"
          ]
        }
      ]
    },
    {
      "cell_type": "markdown",
      "source": [
        "**Elements together**"
      ],
      "metadata": {
        "id": "_L5DLOMDvhTc"
      }
    },
    {
      "cell_type": "code",
      "source": [
        "from sklearn.ensemble import VotingClassifier\n",
        "\n",
        "classifiers = ([('RidgeClassifier', rc),\n",
        "                ('SVMSGD', vc)])\n",
        "vc_2 = VotingClassifier(estimators=classifiers, voting=\"hard\")\n",
        "vc_2.fit(features, y_train)\n",
        "y_pred_train = vc_2.predict(features)\n",
        "y_pred_test = vc_2.predict(cv.transform(x_test))\n",
        "print(\"\\nTraining Accuracy score:\",accuracy_score(y_train, y_pred_train))\n",
        "print(\"Testing Accuracy score:\",accuracy_score(y_test, y_pred_test))"
      ],
      "metadata": {
        "colab": {
          "base_uri": "https://localhost:8080/"
        },
        "id": "pL0EfftQvovp",
        "outputId": "c0b64e6c-b8fe-4d4c-e271-f484d542e7ac"
      },
      "execution_count": null,
      "outputs": [
        {
          "output_type": "stream",
          "name": "stdout",
          "text": [
            "\n",
            "Training Accuracy score: 0.8740161213845424\n",
            "Testing Accuracy score: 0.7677840469078437\n"
          ]
        }
      ]
    },
    {
      "cell_type": "markdown",
      "source": [
        "**Results**"
      ],
      "metadata": {
        "id": "cFvVHaNfwJQI"
      }
    },
    {
      "cell_type": "code",
      "source": [
        "Test_data = pd.read_csv(r'/content/gdrive/MyDrive/Colab Notebooks/Test_zsoft.csv')\n",
        "Test_data['text'] = Test_data['text'].apply(lambda x : x.lower())\n",
        "import re\n",
        "Test_data['text']=Test_data['text'].apply(lambda x: re.sub('\\w*\\d\\w*','', x))\n",
        "import contractions\n",
        "Test_data['text'] = Test_data[\"text\"].apply(lambda x : contractions.fix(x))\n",
        "Test_data['text'] = [re.sub('\\n', '', x) for x in Test_data['text']]\n",
        "import string\n",
        "Test_data['text'] = Test_data[\"text\"].apply(lambda x: re.sub('[%s]' % re.escape(string.punctuation), '', x))\n",
        "Test_data['text'] = Test_data[\"text\"].apply(lambda x: re.sub(' +',' ',x))\n",
        "import spacy\n",
        "\n",
        "# Loading model\n",
        "nlp = spacy.load('en_core_web_sm',disable=['parser', 'ner'])\n",
        "\n",
        "# Lemmatization with stopwords removal\n",
        "Test_data['text']=Test_data['text'].apply(lambda x: ' '.join([token.lemma_ for token in list(nlp(x)) if (token.is_stop==False)]))\n",
        "Test_data['text'] = [re.sub('httpstco', '', x) for x in Test_data['text']]"
      ],
      "metadata": {
        "id": "f2UyZJEawNOI"
      },
      "execution_count": null,
      "outputs": []
    },
    {
      "cell_type": "code",
      "source": [
        "fet = cv.transform(Test_data['text'])\n",
        "y_pred = vc_2.predict(fet)"
      ],
      "metadata": {
        "id": "zm0C4H2awoUq"
      },
      "execution_count": null,
      "outputs": []
    },
    {
      "cell_type": "code",
      "source": [
        "predictions = pd.Series(y_pred, name='label')\n",
        "predictions = predictions.replace([0, 1, 2],['Experience', 'Skills', 'Education'])\n",
        "predictions"
      ],
      "metadata": {
        "colab": {
          "base_uri": "https://localhost:8080/"
        },
        "id": "QtMhUrshwt-P",
        "outputId": "f8fc31a6-984c-42f3-ab63-4d3af42d5381"
      },
      "execution_count": null,
      "outputs": [
        {
          "output_type": "execute_result",
          "data": {
            "text/plain": [
              "0       Experience\n",
              "1       Experience\n",
              "2       Experience\n",
              "3           Skills\n",
              "4       Experience\n",
              "           ...    \n",
              "7528    Experience\n",
              "7529    Experience\n",
              "7530     Education\n",
              "7531    Experience\n",
              "7532    Experience\n",
              "Name: label, Length: 7533, dtype: object"
            ]
          },
          "metadata": {},
          "execution_count": 29
        }
      ]
    },
    {
      "cell_type": "code",
      "source": [
        "results = pd.concat([Test_data, predictions],axis=1)\n",
        "results=results.drop(['text'], axis=1)"
      ],
      "metadata": {
        "id": "omivvLzCw06z"
      },
      "execution_count": null,
      "outputs": []
    },
    {
      "cell_type": "code",
      "source": [
        "results.to_csv(\"subs_1.csv\",index=False)"
      ],
      "metadata": {
        "id": "GXhEdjtfw2W0"
      },
      "execution_count": null,
      "outputs": []
    },
    {
      "cell_type": "code",
      "source": [],
      "metadata": {
        "id": "MSgCgebB7AmN"
      },
      "execution_count": null,
      "outputs": []
    }
  ]
}